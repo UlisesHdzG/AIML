{
 "cells": [
  {
   "cell_type": "markdown",
   "metadata": {
    "id": "sTTeOe27C0j7"
   },
   "source": [
    "**Author: Pablo Ulises Hernandez Garces**\n",
    "\n",
    "**link Github: https://github.com/GreatLearningAIML1/gl-pgp-aiml-uta-intl-apr20-UlisesHdzG**\n",
    "\n",
    "\n",
    "**Data Description**\n",
    "\n",
    "A sentiment analysis job about the problems of each major U.S. airline. Twitter data was scraped from February of 2015 and contributors were asked to first classify positive, negative, and neutral tweets, followed by categorizing negative reasons (such as \"late flight\" or \"rude service\").\n",
    "\n",
    "\n",
    "**Dataset**\n",
    "\n",
    "The project is from a dataset from Kaggle. Link to the Kaggle project site: \n",
    "https://www.kaggle.com/crowdflower/twitter-airline-sentiment\n",
    "\n",
    "The dataset has to be downloaded from the above Kaggle website. The dataset has the following columns:\n",
    "\n",
    "* tweet_id\n",
    "* airline_sentiment\n",
    "* airline_sentiment_confidence\n",
    "* negativereason\n",
    "* negativereason_confidence\n",
    "* airline\n",
    "* airline_sentiment_gold\n",
    "* name\n",
    "* negativereason_gold\n",
    "* retweet_count\n",
    "* text\n",
    "* tweet_coord\n",
    "* tweet_created\n",
    "* tweet_location\n",
    "* user_timezone\n",
    "\n",
    "**Objective**\n",
    "\n",
    "To implement the techniques learnt as a part of the course.\n",
    "\n",
    "**Learning Outcomes**\n",
    "\n",
    "* Basic understanding of text pre-processing.\n",
    "* What to do after text pre-processing:\n",
    "  * Bag of words\n",
    "  * Tf-idf\n",
    "* Build the classification model.\n",
    "* Evaluate the Model.\n",
    "\n",
    "**Steps and tasks**\n",
    "\n",
    "1. **Import the libraries, load dataset, print shape of data, data description.**\n"
   ]
  },
  {
   "cell_type": "code",
   "execution_count": 23,
   "metadata": {
    "colab": {
     "base_uri": "https://localhost:8080/",
     "height": 187
    },
    "id": "KVwnlarmCdN1",
    "outputId": "c7801220-ccbd-4f00-ea92-d4804faf2c2f"
   },
   "outputs": [
    {
     "name": "stdout",
     "output_type": "stream",
     "text": [
      "Requirement already satisfied: contractions in /usr/local/lib/python3.6/dist-packages (0.0.25)\n",
      "Requirement already satisfied: textsearch in /usr/local/lib/python3.6/dist-packages (from contractions) (0.0.17)\n",
      "Requirement already satisfied: pyahocorasick in /usr/local/lib/python3.6/dist-packages (from textsearch->contractions) (1.4.0)\n",
      "Requirement already satisfied: Unidecode in /usr/local/lib/python3.6/dist-packages (from textsearch->contractions) (1.1.1)\n",
      "[nltk_data] Downloading package stopwords to /root/nltk_data...\n",
      "[nltk_data]   Package stopwords is already up-to-date!\n",
      "[nltk_data] Downloading package punkt to /root/nltk_data...\n",
      "[nltk_data]   Package punkt is already up-to-date!\n",
      "[nltk_data] Downloading package wordnet to /root/nltk_data...\n",
      "[nltk_data]   Package wordnet is already up-to-date!\n"
     ]
    }
   ],
   "source": [
    "!pip install contractions\n",
    "\n",
    "import re, string, unicodedata                          # Import Regex, string and unicodedata.\n",
    "import contractions                                     # Import contractions library.\n",
    "from bs4 import BeautifulSoup                           # Import BeautifulSoup.\n",
    "\n",
    "import numpy as np                                      # Import numpy.\n",
    "import pandas as pd                                     # Import pandas.\n",
    "import nltk                                             # Import Natural Language Tool-Kit.\n",
    "from google.colab import drive\n",
    "\n",
    "nltk.download('stopwords')                              # Download Stopwords.\n",
    "nltk.download('punkt')\n",
    "nltk.download('wordnet')\n",
    "\n",
    "from nltk.stem import PorterStemmer                     # Stemmer\n",
    "from nltk.corpus import stopwords                       # Import stopwords.\n",
    "from nltk.tokenize import word_tokenize, sent_tokenize  # Import Tokenizer.\n",
    "from nltk.stem.wordnet import WordNetLemmatizer         # Import Lemmatizer.\n",
    "\n",
    "from sklearn.feature_extraction.text import CountVectorizer          #For Bag of words\n",
    "from sklearn.feature_extraction.text import TfidfVectorizer          #For TF-IDF\n",
    "from sklearn.model_selection import train_test_split\n",
    "from sklearn.ensemble import RandomForestClassifier\n",
    "from sklearn.model_selection import cross_val_score\n",
    "from sklearn.metrics import accuracy_score, precision_score, recall_score, f1_score, confusion_matrix\n",
    "\n",
    "\n",
    "import seaborn as sns\n",
    "import matplotlib.pyplot as plt"
   ]
  },
  {
   "cell_type": "code",
   "execution_count": 24,
   "metadata": {
    "colab": {
     "base_uri": "https://localhost:8080/",
     "height": 34
    },
    "id": "ZAaSSsO2Role",
    "outputId": "dfacf9a2-678d-4023-f062-d68dcbffbc51"
   },
   "outputs": [
    {
     "name": "stdout",
     "output_type": "stream",
     "text": [
      "Drive already mounted at /content/drive; to attempt to forcibly remount, call drive.mount(\"/content/drive\", force_remount=True).\n"
     ]
    }
   ],
   "source": [
    "# loading data\n",
    "drive.mount('/content/drive')\n",
    "project_path = '/content/drive/My Drive/AIML/Project 8 - NLP/Data/'\n",
    "data = pd.read_csv(project_path + 'Tweets.csv')\n"
   ]
  },
  {
   "cell_type": "code",
   "execution_count": 25,
   "metadata": {
    "colab": {
     "base_uri": "https://localhost:8080/",
     "height": 34
    },
    "id": "qyVKScLCXOE2",
    "outputId": "c3cce06b-036c-4be3-aea2-38324d33e575"
   },
   "outputs": [
    {
     "data": {
      "text/plain": [
       "(14640, 15)"
      ]
     },
     "execution_count": 25,
     "metadata": {
      "tags": []
     },
     "output_type": "execute_result"
    }
   ],
   "source": [
    "# Data shape\n",
    "data.shape"
   ]
  },
  {
   "cell_type": "code",
   "execution_count": 26,
   "metadata": {
    "colab": {
     "base_uri": "https://localhost:8080/",
     "height": 391
    },
    "id": "jE9k6kLJX9qK",
    "outputId": "9b456f3c-22fb-4c8f-a194-5ceccef68965"
   },
   "outputs": [
    {
     "name": "stdout",
     "output_type": "stream",
     "text": [
      "<class 'pandas.core.frame.DataFrame'>\n",
      "RangeIndex: 14640 entries, 0 to 14639\n",
      "Data columns (total 15 columns):\n",
      " #   Column                        Non-Null Count  Dtype  \n",
      "---  ------                        --------------  -----  \n",
      " 0   tweet_id                      14640 non-null  int64  \n",
      " 1   airline_sentiment             14640 non-null  object \n",
      " 2   airline_sentiment_confidence  14640 non-null  float64\n",
      " 3   negativereason                9178 non-null   object \n",
      " 4   negativereason_confidence     10522 non-null  float64\n",
      " 5   airline                       14640 non-null  object \n",
      " 6   airline_sentiment_gold        40 non-null     object \n",
      " 7   name                          14640 non-null  object \n",
      " 8   negativereason_gold           32 non-null     object \n",
      " 9   retweet_count                 14640 non-null  int64  \n",
      " 10  text                          14640 non-null  object \n",
      " 11  tweet_coord                   1019 non-null   object \n",
      " 12  tweet_created                 14640 non-null  object \n",
      " 13  tweet_location                9907 non-null   object \n",
      " 14  user_timezone                 9820 non-null   object \n",
      "dtypes: float64(2), int64(2), object(11)\n",
      "memory usage: 1.7+ MB\n"
     ]
    }
   ],
   "source": [
    "data.info()"
   ]
  },
  {
   "cell_type": "markdown",
   "metadata": {
    "id": "s3CivwuvYqP5"
   },
   "source": [
    "We can see that there are some variables with null values in the dataset. However, the variables with missing values are not relevant for the objective of this project."
   ]
  },
  {
   "cell_type": "markdown",
   "metadata": {
    "id": "sO5yN1jwQsKo"
   },
   "source": [
    "2. **Understand of data-columns:** \n",
    "  * Drop all other columns except “text” and “airline_sentiment”.\n",
    "  * Check the shape of data.\n",
    "  * Print first 5 rows of data.\n"
   ]
  },
  {
   "cell_type": "code",
   "execution_count": 27,
   "metadata": {
    "id": "T6vSgguOQriq"
   },
   "outputs": [],
   "source": [
    "# Dropping all columns except \"text\" and \"airline_sentiment\"\n",
    "data= data.drop(data.columns[~data.columns.isin(['text','airline_sentiment'])], axis=1)"
   ]
  },
  {
   "cell_type": "code",
   "execution_count": 28,
   "metadata": {
    "colab": {
     "base_uri": "https://localhost:8080/",
     "height": 221
    },
    "id": "0dO9pwbBajUk",
    "outputId": "d1c1d63a-e1d6-49cf-cce6-18f678213da4"
   },
   "outputs": [
    {
     "name": "stdout",
     "output_type": "stream",
     "text": [
      "Data shape: (14640, 2)\n"
     ]
    },
    {
     "data": {
      "text/html": [
       "<div>\n",
       "<style scoped>\n",
       "    .dataframe tbody tr th:only-of-type {\n",
       "        vertical-align: middle;\n",
       "    }\n",
       "\n",
       "    .dataframe tbody tr th {\n",
       "        vertical-align: top;\n",
       "    }\n",
       "\n",
       "    .dataframe thead th {\n",
       "        text-align: right;\n",
       "    }\n",
       "</style>\n",
       "<table border=\"1\" class=\"dataframe\">\n",
       "  <thead>\n",
       "    <tr style=\"text-align: right;\">\n",
       "      <th></th>\n",
       "      <th>airline_sentiment</th>\n",
       "      <th>text</th>\n",
       "    </tr>\n",
       "  </thead>\n",
       "  <tbody>\n",
       "    <tr>\n",
       "      <th>0</th>\n",
       "      <td>neutral</td>\n",
       "      <td>@VirginAmerica What @dhepburn said.</td>\n",
       "    </tr>\n",
       "    <tr>\n",
       "      <th>1</th>\n",
       "      <td>positive</td>\n",
       "      <td>@VirginAmerica plus you've added commercials t...</td>\n",
       "    </tr>\n",
       "    <tr>\n",
       "      <th>2</th>\n",
       "      <td>neutral</td>\n",
       "      <td>@VirginAmerica I didn't today... Must mean I n...</td>\n",
       "    </tr>\n",
       "    <tr>\n",
       "      <th>3</th>\n",
       "      <td>negative</td>\n",
       "      <td>@VirginAmerica it's really aggressive to blast...</td>\n",
       "    </tr>\n",
       "    <tr>\n",
       "      <th>4</th>\n",
       "      <td>negative</td>\n",
       "      <td>@VirginAmerica and it's a really big bad thing...</td>\n",
       "    </tr>\n",
       "  </tbody>\n",
       "</table>\n",
       "</div>"
      ],
      "text/plain": [
       "  airline_sentiment                                               text\n",
       "0           neutral                @VirginAmerica What @dhepburn said.\n",
       "1          positive  @VirginAmerica plus you've added commercials t...\n",
       "2           neutral  @VirginAmerica I didn't today... Must mean I n...\n",
       "3          negative  @VirginAmerica it's really aggressive to blast...\n",
       "4          negative  @VirginAmerica and it's a really big bad thing..."
      ]
     },
     "execution_count": 28,
     "metadata": {
      "tags": []
     },
     "output_type": "execute_result"
    }
   ],
   "source": [
    "print('Data shape:',data.shape)\n",
    "data.head()"
   ]
  },
  {
   "cell_type": "code",
   "execution_count": 29,
   "metadata": {
    "colab": {
     "base_uri": "https://localhost:8080/",
     "height": 170
    },
    "id": "P6XqnuczExT1",
    "outputId": "3b329e88-f147-4324-f0b0-20295c06a401"
   },
   "outputs": [
    {
     "name": "stdout",
     "output_type": "stream",
     "text": [
      "<class 'pandas.core.frame.DataFrame'>\n",
      "RangeIndex: 14640 entries, 0 to 14639\n",
      "Data columns (total 2 columns):\n",
      " #   Column             Non-Null Count  Dtype \n",
      "---  ------             --------------  ----- \n",
      " 0   airline_sentiment  14640 non-null  object\n",
      " 1   text               14640 non-null  object\n",
      "dtypes: object(2)\n",
      "memory usage: 228.9+ KB\n"
     ]
    }
   ],
   "source": [
    "data.info()"
   ]
  },
  {
   "cell_type": "markdown",
   "metadata": {
    "id": "eXuZ2oKYEzSt"
   },
   "source": [
    "We can see that the variables of interest do not have null values."
   ]
  },
  {
   "cell_type": "markdown",
   "metadata": {
    "id": "PPnIFxUmQuYa"
   },
   "source": [
    "3. **Text pre-processing: Data preparation.**\n",
    "  * Html tag removal.\n",
    "  * Tokenization.\n",
    "  * Remove the numbers.\n",
    "  * Removal of Special Characters and Punctuations.\n",
    "  * Conversion to lowercase.\n",
    "  * Lemmatize or stemming.\n",
    "  * Join the words in the list to convert back to text string in the dataframe. (So that each row\n",
    "contains the data in text format.)\n",
    "  * Print first 5 rows of data after pre-processing.\n"
   ]
  },
  {
   "cell_type": "code",
   "execution_count": 30,
   "metadata": {
    "colab": {
     "base_uri": "https://localhost:8080/",
     "height": 204
    },
    "id": "g3ZhTWTCQuDZ",
    "outputId": "3696b0f8-0e69-417d-a871-c2014126eb7c"
   },
   "outputs": [
    {
     "data": {
      "text/html": [
       "<div>\n",
       "<style scoped>\n",
       "    .dataframe tbody tr th:only-of-type {\n",
       "        vertical-align: middle;\n",
       "    }\n",
       "\n",
       "    .dataframe tbody tr th {\n",
       "        vertical-align: top;\n",
       "    }\n",
       "\n",
       "    .dataframe thead th {\n",
       "        text-align: right;\n",
       "    }\n",
       "</style>\n",
       "<table border=\"1\" class=\"dataframe\">\n",
       "  <thead>\n",
       "    <tr style=\"text-align: right;\">\n",
       "      <th></th>\n",
       "      <th>airline_sentiment</th>\n",
       "      <th>text</th>\n",
       "      <th>clean_text</th>\n",
       "    </tr>\n",
       "  </thead>\n",
       "  <tbody>\n",
       "    <tr>\n",
       "      <th>0</th>\n",
       "      <td>neutral</td>\n",
       "      <td>@VirginAmerica What @dhepburn said.</td>\n",
       "      <td>@VirginAmerica What @dhepburn said.</td>\n",
       "    </tr>\n",
       "    <tr>\n",
       "      <th>1</th>\n",
       "      <td>positive</td>\n",
       "      <td>@VirginAmerica plus you've added commercials t...</td>\n",
       "      <td>@VirginAmerica plus you've added commercials t...</td>\n",
       "    </tr>\n",
       "    <tr>\n",
       "      <th>2</th>\n",
       "      <td>neutral</td>\n",
       "      <td>@VirginAmerica I didn't today... Must mean I n...</td>\n",
       "      <td>@VirginAmerica I didn't today... Must mean I n...</td>\n",
       "    </tr>\n",
       "    <tr>\n",
       "      <th>3</th>\n",
       "      <td>negative</td>\n",
       "      <td>@VirginAmerica it's really aggressive to blast...</td>\n",
       "      <td>@VirginAmerica it's really aggressive to blast...</td>\n",
       "    </tr>\n",
       "    <tr>\n",
       "      <th>4</th>\n",
       "      <td>negative</td>\n",
       "      <td>@VirginAmerica and it's a really big bad thing...</td>\n",
       "      <td>@VirginAmerica and it's a really big bad thing...</td>\n",
       "    </tr>\n",
       "  </tbody>\n",
       "</table>\n",
       "</div>"
      ],
      "text/plain": [
       "  airline_sentiment  ...                                         clean_text\n",
       "0           neutral  ...                @VirginAmerica What @dhepburn said.\n",
       "1          positive  ...  @VirginAmerica plus you've added commercials t...\n",
       "2           neutral  ...  @VirginAmerica I didn't today... Must mean I n...\n",
       "3          negative  ...  @VirginAmerica it's really aggressive to blast...\n",
       "4          negative  ...  @VirginAmerica and it's a really big bad thing...\n",
       "\n",
       "[5 rows x 3 columns]"
      ]
     },
     "execution_count": 30,
     "metadata": {
      "tags": []
     },
     "output_type": "execute_result"
    }
   ],
   "source": [
    "# html tag removal\n",
    "def strip_html(text):\n",
    "    soup = BeautifulSoup(text, \"html.parser\")\n",
    "    return soup.get_text()\n",
    "\n",
    "data['clean_text'] = data['text'].apply(lambda x: strip_html(x))\n",
    "data.head()"
   ]
  },
  {
   "cell_type": "code",
   "execution_count": 31,
   "metadata": {
    "colab": {
     "base_uri": "https://localhost:8080/",
     "height": 204
    },
    "id": "cDvrJLztRDCA",
    "outputId": "5111a55b-64ca-42db-b373-c896f577852c"
   },
   "outputs": [
    {
     "data": {
      "text/html": [
       "<div>\n",
       "<style scoped>\n",
       "    .dataframe tbody tr th:only-of-type {\n",
       "        vertical-align: middle;\n",
       "    }\n",
       "\n",
       "    .dataframe tbody tr th {\n",
       "        vertical-align: top;\n",
       "    }\n",
       "\n",
       "    .dataframe thead th {\n",
       "        text-align: right;\n",
       "    }\n",
       "</style>\n",
       "<table border=\"1\" class=\"dataframe\">\n",
       "  <thead>\n",
       "    <tr style=\"text-align: right;\">\n",
       "      <th></th>\n",
       "      <th>airline_sentiment</th>\n",
       "      <th>text</th>\n",
       "      <th>clean_text</th>\n",
       "    </tr>\n",
       "  </thead>\n",
       "  <tbody>\n",
       "    <tr>\n",
       "      <th>0</th>\n",
       "      <td>neutral</td>\n",
       "      <td>@VirginAmerica What @dhepburn said.</td>\n",
       "      <td>@VirginAmerica What @dhepburn said.</td>\n",
       "    </tr>\n",
       "    <tr>\n",
       "      <th>1</th>\n",
       "      <td>positive</td>\n",
       "      <td>@VirginAmerica plus you've added commercials t...</td>\n",
       "      <td>@VirginAmerica plus you have added commercials...</td>\n",
       "    </tr>\n",
       "    <tr>\n",
       "      <th>2</th>\n",
       "      <td>neutral</td>\n",
       "      <td>@VirginAmerica I didn't today... Must mean I n...</td>\n",
       "      <td>@VirginAmerica I did not today... Must mean I ...</td>\n",
       "    </tr>\n",
       "    <tr>\n",
       "      <th>3</th>\n",
       "      <td>negative</td>\n",
       "      <td>@VirginAmerica it's really aggressive to blast...</td>\n",
       "      <td>@VirginAmerica it is really aggressive to blas...</td>\n",
       "    </tr>\n",
       "    <tr>\n",
       "      <th>4</th>\n",
       "      <td>negative</td>\n",
       "      <td>@VirginAmerica and it's a really big bad thing...</td>\n",
       "      <td>@VirginAmerica and it is a really big bad thin...</td>\n",
       "    </tr>\n",
       "  </tbody>\n",
       "</table>\n",
       "</div>"
      ],
      "text/plain": [
       "  airline_sentiment  ...                                         clean_text\n",
       "0           neutral  ...                @VirginAmerica What @dhepburn said.\n",
       "1          positive  ...  @VirginAmerica plus you have added commercials...\n",
       "2           neutral  ...  @VirginAmerica I did not today... Must mean I ...\n",
       "3          negative  ...  @VirginAmerica it is really aggressive to blas...\n",
       "4          negative  ...  @VirginAmerica and it is a really big bad thin...\n",
       "\n",
       "[5 rows x 3 columns]"
      ]
     },
     "execution_count": 31,
     "metadata": {
      "tags": []
     },
     "output_type": "execute_result"
    }
   ],
   "source": [
    "# contractions removal\n",
    "def replace_contractions(text):\n",
    "    \"\"\"Replace contractions in string of text\"\"\"\n",
    "    return contractions.fix(text)\n",
    "\n",
    "data['clean_text'] = data['clean_text'].apply(lambda x: replace_contractions(x))\n",
    "data.head()"
   ]
  },
  {
   "cell_type": "code",
   "execution_count": 32,
   "metadata": {
    "colab": {
     "base_uri": "https://localhost:8080/",
     "height": 204
    },
    "id": "BnXwGX_nFb9I",
    "outputId": "dab0bed9-3a4b-4451-cba0-0e52f6fda746"
   },
   "outputs": [
    {
     "data": {
      "text/html": [
       "<div>\n",
       "<style scoped>\n",
       "    .dataframe tbody tr th:only-of-type {\n",
       "        vertical-align: middle;\n",
       "    }\n",
       "\n",
       "    .dataframe tbody tr th {\n",
       "        vertical-align: top;\n",
       "    }\n",
       "\n",
       "    .dataframe thead th {\n",
       "        text-align: right;\n",
       "    }\n",
       "</style>\n",
       "<table border=\"1\" class=\"dataframe\">\n",
       "  <thead>\n",
       "    <tr style=\"text-align: right;\">\n",
       "      <th></th>\n",
       "      <th>airline_sentiment</th>\n",
       "      <th>text</th>\n",
       "      <th>clean_text</th>\n",
       "    </tr>\n",
       "  </thead>\n",
       "  <tbody>\n",
       "    <tr>\n",
       "      <th>0</th>\n",
       "      <td>neutral</td>\n",
       "      <td>@VirginAmerica What @dhepburn said.</td>\n",
       "      <td>@VirginAmerica What @dhepburn said.</td>\n",
       "    </tr>\n",
       "    <tr>\n",
       "      <th>1</th>\n",
       "      <td>positive</td>\n",
       "      <td>@VirginAmerica plus you've added commercials t...</td>\n",
       "      <td>@VirginAmerica plus you have added commercials...</td>\n",
       "    </tr>\n",
       "    <tr>\n",
       "      <th>2</th>\n",
       "      <td>neutral</td>\n",
       "      <td>@VirginAmerica I didn't today... Must mean I n...</td>\n",
       "      <td>@VirginAmerica I did not today... Must mean I ...</td>\n",
       "    </tr>\n",
       "    <tr>\n",
       "      <th>3</th>\n",
       "      <td>negative</td>\n",
       "      <td>@VirginAmerica it's really aggressive to blast...</td>\n",
       "      <td>@VirginAmerica it is really aggressive to blas...</td>\n",
       "    </tr>\n",
       "    <tr>\n",
       "      <th>4</th>\n",
       "      <td>negative</td>\n",
       "      <td>@VirginAmerica and it's a really big bad thing...</td>\n",
       "      <td>@VirginAmerica and it is a really big bad thin...</td>\n",
       "    </tr>\n",
       "  </tbody>\n",
       "</table>\n",
       "</div>"
      ],
      "text/plain": [
       "  airline_sentiment  ...                                         clean_text\n",
       "0           neutral  ...                @VirginAmerica What @dhepburn said.\n",
       "1          positive  ...  @VirginAmerica plus you have added commercials...\n",
       "2           neutral  ...  @VirginAmerica I did not today... Must mean I ...\n",
       "3          negative  ...  @VirginAmerica it is really aggressive to blas...\n",
       "4          negative  ...  @VirginAmerica and it is a really big bad thin...\n",
       "\n",
       "[5 rows x 3 columns]"
      ]
     },
     "execution_count": 32,
     "metadata": {
      "tags": []
     },
     "output_type": "execute_result"
    }
   ],
   "source": [
    "# Removing numbers\n",
    "def remove_numbers(text):\n",
    "  text = re.sub(r'\\d+', '', text)\n",
    "  return text\n",
    "\n",
    "data['clean_text'] = data['clean_text'].apply(lambda x: remove_numbers(x))\n",
    "data.head()"
   ]
  },
  {
   "cell_type": "code",
   "execution_count": 33,
   "metadata": {
    "id": "4Bnz4QEHFdtG"
   },
   "outputs": [],
   "source": [
    "# tokenization\n",
    "data['clean_text'] = data.apply(lambda row: nltk.word_tokenize(row['clean_text']), axis=1) "
   ]
  },
  {
   "cell_type": "code",
   "execution_count": 34,
   "metadata": {
    "id": "u54hMiLnQmPA"
   },
   "outputs": [],
   "source": [
    "stopwords = stopwords.words('english')\n",
    "\n",
    "customlist = ['not', \"couldn't\", 'didn', \"didn't\", 'doesn', \"doesn't\", 'hadn', \"hadn't\", 'hasn',\n",
    "        \"hasn't\", 'haven', \"haven't\", 'isn', \"isn't\", 'ma', 'mightn', \"mightn't\", 'mustn',\n",
    "        \"mustn't\", 'needn', \"needn't\", 'shan', \"shan't\", 'shouldn', \"shouldn't\", 'wasn',\n",
    "        \"wasn't\", 'weren', \"weren't\", 'won', \"won't\", 'wouldn', \"wouldn't\"]\n",
    "\n",
    "# Set custom stop-word's list as not, couldn't etc. words matter in Sentiment, so not removing them from original data.\n",
    "\n",
    "stopwords = list(set(stopwords) - set(customlist))   "
   ]
  },
  {
   "cell_type": "code",
   "execution_count": 35,
   "metadata": {
    "colab": {
     "base_uri": "https://localhost:8080/",
     "height": 204
    },
    "id": "GMAt7JzUQqIc",
    "outputId": "14a970ab-b821-49d9-d29b-f1a830d9a433"
   },
   "outputs": [
    {
     "data": {
      "text/html": [
       "<div>\n",
       "<style scoped>\n",
       "    .dataframe tbody tr th:only-of-type {\n",
       "        vertical-align: middle;\n",
       "    }\n",
       "\n",
       "    .dataframe tbody tr th {\n",
       "        vertical-align: top;\n",
       "    }\n",
       "\n",
       "    .dataframe thead th {\n",
       "        text-align: right;\n",
       "    }\n",
       "</style>\n",
       "<table border=\"1\" class=\"dataframe\">\n",
       "  <thead>\n",
       "    <tr style=\"text-align: right;\">\n",
       "      <th></th>\n",
       "      <th>airline_sentiment</th>\n",
       "      <th>text</th>\n",
       "      <th>clean_text</th>\n",
       "    </tr>\n",
       "  </thead>\n",
       "  <tbody>\n",
       "    <tr>\n",
       "      <th>0</th>\n",
       "      <td>neutral</td>\n",
       "      <td>@VirginAmerica What @dhepburn said.</td>\n",
       "      <td>virginamerica dhepburn say</td>\n",
       "    </tr>\n",
       "    <tr>\n",
       "      <th>1</th>\n",
       "      <td>positive</td>\n",
       "      <td>@VirginAmerica plus you've added commercials t...</td>\n",
       "      <td>virginamerica plus add commercials experience ...</td>\n",
       "    </tr>\n",
       "    <tr>\n",
       "      <th>2</th>\n",
       "      <td>neutral</td>\n",
       "      <td>@VirginAmerica I didn't today... Must mean I n...</td>\n",
       "      <td>virginamerica not today must mean need take an...</td>\n",
       "    </tr>\n",
       "    <tr>\n",
       "      <th>3</th>\n",
       "      <td>negative</td>\n",
       "      <td>@VirginAmerica it's really aggressive to blast...</td>\n",
       "      <td>virginamerica really aggressive blast obnoxiou...</td>\n",
       "    </tr>\n",
       "    <tr>\n",
       "      <th>4</th>\n",
       "      <td>negative</td>\n",
       "      <td>@VirginAmerica and it's a really big bad thing...</td>\n",
       "      <td>virginamerica really big bad thing</td>\n",
       "    </tr>\n",
       "  </tbody>\n",
       "</table>\n",
       "</div>"
      ],
      "text/plain": [
       "  airline_sentiment  ...                                         clean_text\n",
       "0           neutral  ...                         virginamerica dhepburn say\n",
       "1          positive  ...  virginamerica plus add commercials experience ...\n",
       "2           neutral  ...  virginamerica not today must mean need take an...\n",
       "3          negative  ...  virginamerica really aggressive blast obnoxiou...\n",
       "4          negative  ...                 virginamerica really big bad thing\n",
       "\n",
       "[5 rows x 3 columns]"
      ]
     },
     "execution_count": 35,
     "metadata": {
      "tags": []
     },
     "output_type": "execute_result"
    }
   ],
   "source": [
    "lemmatizer = WordNetLemmatizer()\n",
    "\n",
    "def remove_non_ascii(words):\n",
    "    \"\"\"Remove non-ASCII characters from list of tokenized words\"\"\"\n",
    "    new_words = []\n",
    "    for word in words:\n",
    "        new_word = unicodedata.normalize('NFKD', word).encode('ascii', 'ignore').decode('utf-8', 'ignore')\n",
    "        new_words.append(new_word)\n",
    "    return new_words\n",
    "\n",
    "def to_lowercase(words):\n",
    "    \"\"\"Convert all characters to lowercase from list of tokenized words\"\"\"\n",
    "    new_words = []\n",
    "    for word in words:\n",
    "        new_word = word.lower()\n",
    "        new_words.append(new_word)\n",
    "    return new_words\n",
    "\n",
    "def remove_punctuation(words):\n",
    "    \"\"\"Remove punctuation from list of tokenized words\"\"\"\n",
    "    new_words = []\n",
    "    for word in words:\n",
    "        new_word = re.sub(r'[^\\w\\s]', '', word)\n",
    "        if new_word != '':\n",
    "            new_words.append(new_word)\n",
    "    return new_words\n",
    "\n",
    "def remove_stopwords(words):\n",
    "    \"\"\"Remove stop words from list of tokenized words\"\"\"\n",
    "    new_words = []\n",
    "    for word in words:\n",
    "        if word not in stopwords:\n",
    "            new_words.append(word)\n",
    "    return new_words\n",
    "\n",
    "def lemmatize_list(words):\n",
    "    new_words = []\n",
    "    for word in words:\n",
    "      new_words.append(lemmatizer.lemmatize(word, pos='v'))\n",
    "    return new_words\n",
    "\n",
    "def normalize(words):\n",
    "    words = remove_non_ascii(words)\n",
    "    words = to_lowercase(words)\n",
    "    words = remove_punctuation(words)\n",
    "    words = remove_stopwords(words)\n",
    "    words = lemmatize_list(words)\n",
    "    return ' '.join(words)\n",
    "\n",
    "data['clean_text'] = data.apply(lambda row: normalize(row['clean_text']), axis=1)\n",
    "data.head()"
   ]
  },
  {
   "cell_type": "markdown",
   "metadata": {
    "id": "3ikBKXI8Qwl8"
   },
   "source": [
    "4. **Vectorization:**\n",
    "  * Use CountVectorizer.\n",
    "  * Use TfidfVectorizer."
   ]
  },
  {
   "cell_type": "code",
   "execution_count": 148,
   "metadata": {
    "colab": {
     "base_uri": "https://localhost:8080/",
     "height": 34
    },
    "id": "cTQaFzkSQwUC",
    "outputId": "2aa55629-31b9-4535-e9f8-581669792227"
   },
   "outputs": [
    {
     "data": {
      "text/plain": [
       "(14640, 1000)"
      ]
     },
     "execution_count": 148,
     "metadata": {
      "tags": []
     },
     "output_type": "execute_result"
    }
   ],
   "source": [
    "# Vectorization using CountVectorizer\n",
    "vectorizer = CountVectorizer(max_features=1000)                # Keep only 2000 features as number of features will increase the processing time.\n",
    "data_countVect = vectorizer.fit_transform(data['clean_text'])\n",
    "\n",
    "data_countVect = data_countVect.toarray()                        # Convert the data features to array.\n",
    "data_countVect.shape"
   ]
  },
  {
   "cell_type": "code",
   "execution_count": 149,
   "metadata": {
    "colab": {
     "base_uri": "https://localhost:8080/",
     "height": 34
    },
    "id": "YGdxR3wDUOGH",
    "outputId": "b5c11543-8067-493d-df07-ec89558d36b2"
   },
   "outputs": [
    {
     "data": {
      "text/plain": [
       "(14640, 1000)"
      ]
     },
     "execution_count": 149,
     "metadata": {
      "tags": []
     },
     "output_type": "execute_result"
    }
   ],
   "source": [
    "# Vectorization using TfidfVectorizer\n",
    "vectorizer_tfidf = TfidfVectorizer(max_features=1000)               # Keep only 2000 features as number of features will increase the processing time.\n",
    "data_tfidf = vectorizer_tfidf.fit_transform(data['clean_text'])\n",
    "\n",
    "data_tfidf = data_tfidf.toarray()                             # Convert the data features to array.\n",
    "\n",
    "data_tfidf.shape"
   ]
  },
  {
   "cell_type": "markdown",
   "metadata": {
    "id": "jqPFP8cKQy7C"
   },
   "source": [
    "5. **Fit and evaluate model using both type of vectorization.** \n"
   ]
  },
  {
   "cell_type": "code",
   "execution_count": 150,
   "metadata": {
    "id": "NVOU1I7rIpjZ"
   },
   "outputs": [],
   "source": [
    "data['label'] = data['airline_sentiment'].map(lambda x: ({'neutral':0,'negative':1,'positive':2}).get(x))"
   ]
  },
  {
   "cell_type": "code",
   "execution_count": 151,
   "metadata": {
    "colab": {
     "base_uri": "https://localhost:8080/",
     "height": 173
    },
    "id": "zypFZdbxJoFA",
    "outputId": "6c3ee710-0c3c-4824-e1c0-3a368cf57b10"
   },
   "outputs": [
    {
     "data": {
      "text/html": [
       "<div>\n",
       "<style scoped>\n",
       "    .dataframe tbody tr th:only-of-type {\n",
       "        vertical-align: middle;\n",
       "    }\n",
       "\n",
       "    .dataframe tbody tr th {\n",
       "        vertical-align: top;\n",
       "    }\n",
       "\n",
       "    .dataframe thead th {\n",
       "        text-align: right;\n",
       "    }\n",
       "</style>\n",
       "<table border=\"1\" class=\"dataframe\">\n",
       "  <thead>\n",
       "    <tr style=\"text-align: right;\">\n",
       "      <th>col_0</th>\n",
       "      <th>count</th>\n",
       "    </tr>\n",
       "    <tr>\n",
       "      <th>label</th>\n",
       "      <th></th>\n",
       "    </tr>\n",
       "  </thead>\n",
       "  <tbody>\n",
       "    <tr>\n",
       "      <th>0</th>\n",
       "      <td>3099</td>\n",
       "    </tr>\n",
       "    <tr>\n",
       "      <th>1</th>\n",
       "      <td>9178</td>\n",
       "    </tr>\n",
       "    <tr>\n",
       "      <th>2</th>\n",
       "      <td>2363</td>\n",
       "    </tr>\n",
       "  </tbody>\n",
       "</table>\n",
       "</div>"
      ],
      "text/plain": [
       "col_0  count\n",
       "label       \n",
       "0       3099\n",
       "1       9178\n",
       "2       2363"
      ]
     },
     "execution_count": 151,
     "metadata": {
      "tags": []
     },
     "output_type": "execute_result"
    }
   ],
   "source": [
    "pd.crosstab(index=data['label'],columns=\"count\")     "
   ]
  },
  {
   "cell_type": "markdown",
   "metadata": {
    "id": "TCKOdzAWKEaE"
   },
   "source": [
    "We have an imbalanced dataset with lots of observations in negative sentiment. This will impact in the accuracy of the model. I will use 'class_weight' parameter from the model equal to 'balanced' in order to handle this problem. \n",
    "\n",
    "**Note:** I ran the model without using this parameter and I got the following average scores in cross validation: 73.0% for CountVect and 74.53% for TF-IDF"
   ]
  },
  {
   "cell_type": "code",
   "execution_count": 152,
   "metadata": {
    "colab": {
     "base_uri": "https://localhost:8080/",
     "height": 255
    },
    "id": "SHf83R23LX6s",
    "outputId": "266cb581-ba3b-4ca2-b7c6-2506954d88c6"
   },
   "outputs": [
    {
     "name": "stdout",
     "output_type": "stream",
     "text": [
      "(14640, 1000)\n",
      "(14640,)\n"
     ]
    },
    {
     "data": {
      "text/plain": [
       "0        0\n",
       "1        2\n",
       "2        0\n",
       "3        1\n",
       "4        1\n",
       "        ..\n",
       "14635    2\n",
       "14636    1\n",
       "14637    0\n",
       "14638    1\n",
       "14639    0\n",
       "Name: label, Length: 14640, dtype: int64"
      ]
     },
     "execution_count": 152,
     "metadata": {
      "tags": []
     },
     "output_type": "execute_result"
    }
   ],
   "source": [
    "labels= data['label']\n",
    "print(data_countVect.shape)\n",
    "print(labels.shape)\n",
    "data_countVect\n",
    "labels"
   ]
  },
  {
   "cell_type": "code",
   "execution_count": 153,
   "metadata": {
    "id": "URW4TAU6QyOi"
   },
   "outputs": [],
   "source": [
    "# Splitting data into train and test sets\n",
    "# for Countvect\n",
    "X_train_countvect, X_test_countvect, y_train_countvect, y_test_countvect = train_test_split(data_countVect, labels, test_size=0.3, random_state=42)\n",
    "\n",
    "# for TF-IDF\n",
    "X_train_tfidf, X_test_tfidf, y_train_tfidf, y_test_tfidf = train_test_split(data_tfidf, labels, test_size=0.3, random_state=42)"
   ]
  },
  {
   "cell_type": "code",
   "execution_count": 161,
   "metadata": {
    "colab": {
     "base_uri": "https://localhost:8080/",
     "height": 312
    },
    "id": "ONucIuVycJ7_",
    "outputId": "960be942-7a1c-403b-837b-5779efc72598"
   },
   "outputs": [
    {
     "data": {
      "image/png": "[encoded data removed]",
      "text/plain": [
       "<Figure size 432x288 with 1 Axes>"
      ]
     },
     "metadata": {
      "needs_background": "light",
      "tags": []
     },
     "output_type": "display_data"
    },
    {
     "name": "stdout",
     "output_type": "stream",
     "text": [
      "Average score (%): 75.42\n"
     ]
    }
   ],
   "source": [
    "###########\n",
    "# Fitting model with CountVectorizer\n",
    "###########\n",
    "# Using Random Forest to build model for the classification of reviews.\n",
    "# Also calculating the cross validation score.\n",
    "forest_countVect = RandomForestClassifier(n_estimators=50, class_weight='balanced')\n",
    "\n",
    "forest_countVect = forest_countVect.fit(X_train_countvect, y_train_countvect)\n",
    "\n",
    "#print(forest_countVect)\n",
    "\n",
    "cv_res = cross_val_score(forest_countVect, X_train_countvect, y_train_countvect, cv=20)\n",
    "\n",
    "cv_plot = pd.DataFrame({\"Iteration\":range(1,21),\"Score CV\":cv_res })\n",
    "#plt.plot(np.array(history.history['accuracy']) * 100)\n",
    "plt.plot(cv_plot['Score CV']*100)\n",
    "plt.ylabel('Score (%)')\n",
    "plt.xlabel('Iteration')\n",
    "plt.legend(['train'])\n",
    "plt.title('Score over CV iterations - using CountVectorizer')\n",
    "plt.show()\n",
    "print('Average score (%):',round( np.mean(cv_res)*100,2))"
   ]
  },
  {
   "cell_type": "code",
   "execution_count": 162,
   "metadata": {
    "colab": {
     "base_uri": "https://localhost:8080/",
     "height": 312
    },
    "id": "08i7l9aO_-nX",
    "outputId": "8599945f-24a6-4452-a713-566f85c445ca"
   },
   "outputs": [
    {
     "data": {
      "image/png": "[encoded data removed]",
      "text/plain": [
       "<Figure size 432x288 with 1 Axes>"
      ]
     },
     "metadata": {
      "needs_background": "light",
      "tags": []
     },
     "output_type": "display_data"
    },
    {
     "name": "stdout",
     "output_type": "stream",
     "text": [
      "Average score (%): 75.92\n"
     ]
    }
   ],
   "source": [
    "###########\n",
    "# Fitting model with TF-IDF\n",
    "###########\n",
    "# Using Random Forest to build model for the classification of reviews.\n",
    "# Also calculating the cross validation score.\n",
    "forest_tfidf = RandomForestClassifier(n_estimators=50, n_jobs=4,class_weight='balanced')\n",
    "\n",
    "forest_tfidf = forest_tfidf.fit(X_train_tfidf, y_train_tfidf)\n",
    "\n",
    "cv_res_tfidf = cross_val_score(forest_tfidf, X_train_tfidf, y_train_tfidf, cv=20)\n",
    "cv_plot_tfidf = pd.DataFrame({\"Iteration\":range(1,21),\"Score CV\":cv_res_tfidf })\n",
    "#plt.plot(np.array(history.history['accuracy']) * 100)\n",
    "plt.plot(cv_plot_tfidf['Score CV']*100)\n",
    "plt.ylabel('Score (%)')\n",
    "plt.xlabel('Iteration')\n",
    "plt.legend(['train'])\n",
    "plt.title('Score over CV iterations - using TF-IDF')\n",
    "plt.show()\n",
    "print('Average score (%):',round( np.mean(cv_res_tfidf)*100,2))"
   ]
  },
  {
   "cell_type": "code",
   "execution_count": 163,
   "metadata": {
    "id": "bXFwTl1bGpcJ"
   },
   "outputs": [],
   "source": [
    "# predictions\n",
    "\n",
    "# CountVectorizer\n",
    "y_pred_countvect = forest_countVect.predict(X_test_countvect)\n",
    "\n",
    "# TF-IDF\n",
    "y_pred_tfidf = forest_tfidf.predict(X_test_tfidf)"
   ]
  },
  {
   "cell_type": "code",
   "execution_count": 164,
   "metadata": {
    "colab": {
     "base_uri": "https://localhost:8080/",
     "height": 445
    },
    "id": "Bgmsz4FRGjFT",
    "outputId": "6a5b8e8e-1bd1-47ef-de93-1243cee1e039"
   },
   "outputs": [
    {
     "data": {
      "text/plain": [
       "<matplotlib.axes._subplots.AxesSubplot at 0x7f4fa9010860>"
      ]
     },
     "execution_count": 164,
     "metadata": {
      "tags": []
     },
     "output_type": "execute_result"
    },
    {
     "data": {
      "image/png": "[encoded data removed]",
      "text/plain": [
       "<Figure size 720x504 with 2 Axes>"
      ]
     },
     "metadata": {
      "needs_background": "light",
      "tags": []
     },
     "output_type": "display_data"
    }
   ],
   "source": [
    "# Confusion matrix\n",
    "conf_mat_countvect = confusion_matrix(y_test_countvect, y_pred_countvect)\n",
    "conf_mat_tfidf = confusion_matrix(y_test_tfidf, y_pred_tfidf)\n",
    "\n",
    "df_cm_countvect = pd.DataFrame(conf_mat_countvect)\n",
    "plt.figure(figsize = (10,7))\n",
    "sns.heatmap(df_cm_countvect, annot=True, fmt='g')"
   ]
  },
  {
   "cell_type": "code",
   "execution_count": 165,
   "metadata": {
    "colab": {
     "base_uri": "https://localhost:8080/",
     "height": 445
    },
    "id": "W54O6UiA7hWh",
    "outputId": "edd902f9-79e7-495f-ca27-9088d7458b47"
   },
   "outputs": [
    {
     "data": {
      "text/plain": [
       "<matplotlib.axes._subplots.AxesSubplot at 0x7f4fa3078630>"
      ]
     },
     "execution_count": 165,
     "metadata": {
      "tags": []
     },
     "output_type": "execute_result"
    },
    {
     "data": {
      "image/png": "[encoded data removed]",
      "text/plain": [
       "<Figure size 720x504 with 2 Axes>"
      ]
     },
     "metadata": {
      "needs_background": "light",
      "tags": []
     },
     "output_type": "display_data"
    }
   ],
   "source": [
    "df_cm_tfidf = pd.DataFrame(conf_mat_tfidf)\n",
    "plt.figure(figsize = (10,7))\n",
    "sns.heatmap(df_cm_tfidf, annot=True, fmt='g')"
   ]
  },
  {
   "cell_type": "code",
   "execution_count": 166,
   "metadata": {
    "colab": {
     "base_uri": "https://localhost:8080/",
     "height": 85
    },
    "id": "JYyk7pDiAvrM",
    "outputId": "faeb35cb-d527-4422-dcca-cbbc585c54f1"
   },
   "outputs": [
    {
     "name": "stdout",
     "output_type": "stream",
     "text": [
      "Accuracy countVect model: 0.7711748633879781\n",
      "Recall_score countVect model: [0.5260181  0.88415068 0.62536023]\n",
      "Precision_score countVect model: [0.57055215 0.83742848 0.71617162]\n",
      "F1-score countVect model: [0.54738081 0.86015557 0.66769231]\n"
     ]
    }
   ],
   "source": [
    "# Scores per category: Using CountVect\n",
    "print('Accuracy countVect model: '+ str(accuracy_score(y_test_countvect  ,y_pred_countvect)))\n",
    "print('Recall_score countVect model: ' + str(recall_score(y_test_countvect,y_pred_countvect, average=None)))\n",
    "print('Precision_score countVect model: ' + str(precision_score(y_test_countvect, y_pred_countvect,average=None)))\n",
    "print('F1-score countVect model: ' + str(f1_score(y_test_countvect,y_pred_countvect,average=None)))\n"
   ]
  },
  {
   "cell_type": "code",
   "execution_count": 167,
   "metadata": {
    "colab": {
     "base_uri": "https://localhost:8080/",
     "height": 85
    },
    "id": "Es7x9l4qPqCE",
    "outputId": "b7bc4612-cab7-407a-dd4f-0edfbaafeefe"
   },
   "outputs": [
    {
     "name": "stdout",
     "output_type": "stream",
     "text": [
      "Accuracy TF-IDF model: 0.7714025500910747\n",
      "Recall_score TF-IDF model: [0.49434389 0.90298507 0.5907781 ]\n",
      "Precision_score TF-IDF model: [0.58894879 0.82100162 0.73873874]\n",
      "F1-score TF-IDF model: [0.53751538 0.860044   0.65652522]\n"
     ]
    }
   ],
   "source": [
    "# Scores per category: Using TF-IDF\n",
    "print('Accuracy TF-IDF model: '+ str(accuracy_score(y_test_tfidf  ,y_pred_tfidf)))\n",
    "print('Recall_score TF-IDF model: ' + str(recall_score(y_test_tfidf,y_pred_tfidf, average=None)))\n",
    "print('Precision_score TF-IDF model: ' + str(precision_score(y_test_tfidf, y_pred_tfidf,average=None)))\n",
    "print('F1-score TF-IDF model: ' + str(f1_score(y_test_tfidf,y_pred_tfidf,average=None)))\n"
   ]
  },
  {
   "cell_type": "markdown",
   "metadata": {
    "id": "_td99MN-Q1ZN"
   },
   "source": [
    "6. **Summarize your understanding of the application of Various Pre-processing and Vectorization and performance of your model on this dataset.**"
   ]
  },
  {
   "cell_type": "markdown",
   "metadata": {
    "id": "53OKIsi45_0t"
   },
   "source": [
    "In the pre-processing steps I followed, there are some elements that help to improve the performance of the models. For example, removing some stop words related to negative meaning (such as not, couldn't, didn't, etc.) from the stop words set helps the model to identify pretty well the tweets with a negative sentiment. Additionally, this is really important because there are a lot more negative than neutral or positive tweets. Moreover, for the Airline company it is valuable to understand the issues described in the negative tweets in order to solve them. In other words, the problem to solve is understand what the airline is doing bad and how they can improve their service to reduce bad comments and continuing with the good things. If I had not removed those stop words, the model could not have learnt about the negative sentiment of lots of tweets because of the lack of context given by the stop words removed.\n",
    "\n",
    "The rest of the steps of pre-processing are necessary for having a clean dataset, such as html tags removal, removing contractions, punctuation, numbers and non-ascii characters and converting each word to lowercase. Having implemented these steps we have a more interpretable data, in terms of standard English. Additionally, tokenization is needed to implement all those steps mentioned before to each word.\n",
    "\n",
    "The last part of the pre-processing I implemented was lemmatization. This is a key part of the process. Due to this, models could perform well. In contrast, if I had implemented stemming, performance of models would have been affected because some context had been lost (a disadvantage of stemming compared to lemmatization). Additionally, running time has not been affected for doing lemmatization. \n",
    "\n",
    "On the other hand, vectorization plays an important role in natural language processing. It is a step that we must do in order to feed our models with data and that computers could interpret it. In my process, I implemented both CounVect and TF-IDF vectorizations and also play with some different numbers of max features, I found that with too low or too high numbers of features perform bad in my models, so I kept only 1000 features that seems to be a good number for this problem. And this can be explained as the model could not learned from very few features because the complexity of the problem requires more features(distinct words) but neither from a very large number of distinct words because we would have so many features than the model could not differentiate one \n",
    "observation from another (we would have a sparse matrix).\n",
    "\n",
    "In terms of the performance of the models, both of them (countVect and TF-IDF) had good scores. However, countVect performs a little more better than TF-IDF in almost all the metrics I showed, but TF-IDF predicted correctly more negative sentiment tweets thant countVect."
   ]
  },
  {
   "cell_type": "code",
   "execution_count": 195,
   "metadata": {
    "colab": {
     "base_uri": "https://localhost:8080/",
     "height": 198
    },
    "id": "Su_9WOjgz83v",
    "outputId": "2cbb13ef-1ec1-4aeb-a2fa-399c6bc18d35"
   },
   "outputs": [
    {
     "data": {
      "image/png": "[encoded data removed]",
      "text/plain": [
       "<Figure size 432x288 with 1 Axes>"
      ]
     },
     "metadata": {
      "needs_background": "light",
      "tags": []
     },
     "output_type": "display_data"
    }
   ],
   "source": [
    "from wordcloud import WordCloud, STOPWORDS, ImageColorGenerator\n",
    "\n",
    "# filtering those tweets with negative sentiment of the test set in order to visualize what are the problems\n",
    "index = y_pred_tfidf==1\n",
    "negative_tweets= X_test_countvect[index]\n",
    "aux = vectorizer_tfidf.inverse_transform(negative_tweets)\n",
    "\n",
    "for i in range(0,negative_tweets.shape[0]):\n",
    "  aux[i]=' '.join(aux[i])\n",
    "words = \" \".join(aux)\n",
    "# Create and generate a word cloud image:\n",
    "wordcloud = WordCloud().generate(words)\n",
    "\n",
    "# Display the generated image:\n",
    "plt.imshow(wordcloud, interpolation='bilinear')\n",
    "plt.axis(\"off\")\n",
    "plt.show()"
   ]
  },
  {
   "cell_type": "markdown",
   "metadata": {
    "id": "TyfeGjYf-4NJ"
   },
   "source": [
    "Finally, from the above wordcloud we can see what are the most frequent words that tweets with negative sentiment have. We can see some related to time like \"hour\", \"delay\", \"late\", etc. Additionally, there are some others related to the service like \"help\", \"book\", \"change\", etc. So, these words could help airline to understand that most of the complains of the customers are related to the time and the quality of the service in the desk or in the call center. With this, airline could implement some strategies to improve their customer services and strictly follow  the schedules."
   ]
  }
 ],
 "metadata": {
  "colab": {
   "collapsed_sections": [],
   "name": "Project NLP - Twitter US Airline Sentiment.ipynb",
   "provenance": []
  },
  "kernelspec": {
   "display_name": "Python 3",
   "language": "python",
   "name": "python3"
  },
  "language_info": {
   "codemirror_mode": {
    "name": "ipython",
    "version": 3
   },
   "file_extension": ".py",
   "mimetype": "text/x-python",
   "name": "python",
   "nbconvert_exporter": "python",
   "pygments_lexer": "ipython3",
   "version": "3.7.6"
  }
 },
 "nbformat": 4,
 "nbformat_minor": 1
}
